{
  "nbformat": 4,
  "nbformat_minor": 5,
  "metadata": {
    "kernelspec": {
      "display_name": "Python 3",
      "language": "python",
      "name": "python3"
    },
    "language_info": {
      "codemirror_mode": {
        "name": "ipython",
        "version": 3
      },
      "file_extension": ".py",
      "mimetype": "text/x-python",
      "name": "python",
      "nbconvert_exporter": "python",
      "pygments_lexer": "ipython3",
      "version": "3.7.10"
    },
    "colab": {
      "provenance": [],
      "collapsed_sections": []
    }
  },
  "cells": [
    {
      "cell_type": "markdown",
      "metadata": {
        "id": "bb9cd518-2ed8-495f-bea5-6c1c701708c6"
      },
      "source": [
        "# Машинное обучение в биологии\n",
        "\n",
        "### Семинар 2: Основные понятия и простейшие модели машинного обучения\n",
        "\n",
        "#### Учимся на геномных эмбеддингах. Работа с веществами в Python. Классификация веществ и проблемы разбиения их на обучение и тест."
      ],
      "id": "bb9cd518-2ed8-495f-bea5-6c1c701708c6"
    },
    {
      "cell_type": "code",
      "metadata": {
        "id": "654ff1e0-8eac-452c-a57e-66501bb1a884"
      },
      "source": [
        "import numpy as np\n",
        "import pandas as pd\n",
        "\n",
        "import matplotlib.pyplot as plt\n",
        "import seaborn as sns\n",
        "\n",
        "import sklearn.datasets\n",
        "from sklearn.neighbors import KNeighborsRegressor\n",
        "from sklearn.model_selection import train_test_split\n",
        "from sklearn.preprocessing import StandardScaler\n",
        "from sklearn.metrics import mean_squared_error\n",
        "from sklearn.metrics import mean_absolute_error\n",
        "from sklearn.linear_model import LogisticRegression\n",
        "from sklearn.metrics import classification_report\n",
        "\n",
        "\n",
        "sns.set()\n",
        "sns.set_style(\"whitegrid\")"
      ],
      "id": "654ff1e0-8eac-452c-a57e-66501bb1a884",
      "execution_count": 84,
      "outputs": []
    },
    {
      "cell_type": "markdown",
      "metadata": {
        "id": "89d5e03d-32f0-48ab-9974-1bc2327f6ede"
      },
      "source": [
        "### Задача 1: Предсказание растворимости белков"
      ],
      "id": "89d5e03d-32f0-48ab-9974-1bc2327f6ede"
    },
    {
      "cell_type": "markdown",
      "metadata": {
        "id": "82a27b22-3e1c-484a-bd21-c231de7bb52a"
      },
      "source": [
        "В этой задаче предлагается произвести предсказание растворимости различных белков, используя их физико-химические свойства и белковый состав."
      ],
      "id": "82a27b22-3e1c-484a-bd21-c231de7bb52a"
    },
    {
      "cell_type": "code",
      "metadata": {
        "id": "S22zU4DvNk6h",
        "colab": {
          "base_uri": "https://localhost:8080/"
        },
        "outputId": "f25fd2ca-426a-42a0-bbba-477b82d0fa3e"
      },
      "source": [
        "!wget --no-check-certificate 'https://docs.google.com/uc?export=download&id=1KNyRSO87bQF0NFVwHQD2TynthsoplAZO' -O solubility_data.csv"
      ],
      "id": "S22zU4DvNk6h",
      "execution_count": 51,
      "outputs": [
        {
          "output_type": "stream",
          "name": "stdout",
          "text": [
            "--2022-09-26 21:01:35--  https://docs.google.com/uc?export=download&id=1KNyRSO87bQF0NFVwHQD2TynthsoplAZO\n",
            "Resolving docs.google.com (docs.google.com)... 74.125.203.113, 74.125.203.138, 74.125.203.102, ...\n",
            "Connecting to docs.google.com (docs.google.com)|74.125.203.113|:443... connected.\n",
            "HTTP request sent, awaiting response... 303 See Other\n",
            "Location: https://doc-0s-50-docs.googleusercontent.com/docs/securesc/ha0ro937gcuc7l7deffksulhg5h7mbp1/9923c1p07g7c99ipcdgsorom9aubidri/1664226075000/10688067377005935076/*/1KNyRSO87bQF0NFVwHQD2TynthsoplAZO?e=download&uuid=d0112004-25b7-46e3-b651-e82e12998a9a [following]\n",
            "Warning: wildcards not supported in HTTP.\n",
            "--2022-09-26 21:01:36--  https://doc-0s-50-docs.googleusercontent.com/docs/securesc/ha0ro937gcuc7l7deffksulhg5h7mbp1/9923c1p07g7c99ipcdgsorom9aubidri/1664226075000/10688067377005935076/*/1KNyRSO87bQF0NFVwHQD2TynthsoplAZO?e=download&uuid=d0112004-25b7-46e3-b651-e82e12998a9a\n",
            "Resolving doc-0s-50-docs.googleusercontent.com (doc-0s-50-docs.googleusercontent.com)... 142.250.157.132, 2404:6800:4008:c13::84\n",
            "Connecting to doc-0s-50-docs.googleusercontent.com (doc-0s-50-docs.googleusercontent.com)|142.250.157.132|:443... connected.\n",
            "HTTP request sent, awaiting response... 200 OK\n",
            "Length: 184108 (180K) [text/csv]\n",
            "Saving to: ‘solubility_data.csv’\n",
            "\n",
            "solubility_data.csv 100%[===================>] 179.79K  --.-KB/s    in 0.001s  \n",
            "\n",
            "2022-09-26 21:01:36 (125 MB/s) - ‘solubility_data.csv’ saved [184108/184108]\n",
            "\n"
          ]
        }
      ]
    },
    {
      "cell_type": "markdown",
      "metadata": {
        "id": "22d78c75-e3bf-435c-8b16-7cf21ff153f2"
      },
      "source": [
        "Датасет `solubility_data.csv` загружен за вас, определены `X` и `y`."
      ],
      "id": "22d78c75-e3bf-435c-8b16-7cf21ff153f2"
    },
    {
      "cell_type": "code",
      "metadata": {
        "id": "9da660ce-7081-41ca-a067-c60c625b7f4b",
        "colab": {
          "base_uri": "https://localhost:8080/",
          "height": 268
        },
        "outputId": "f0eb5150-9df2-45cf-9b55-48d8e4c1e0ef"
      },
      "source": [
        "sol = pd.read_csv(\"./solubility_data.csv\", header=0, index_col=0)\n",
        "sol.head(3)"
      ],
      "id": "9da660ce-7081-41ca-a067-c60c625b7f4b",
      "execution_count": 52,
      "outputs": [
        {
          "output_type": "execute_result",
          "data": {
            "text/plain": [
              "            solubility  protein_sasa  length  molecular_weight  \\\n",
              "uniprot_id                                                       \n",
              "P32643              78  14538.357720     293        33936.5675   \n",
              "Q46829              70  19283.018950     470        54516.1438   \n",
              "P65556              19   8407.794332     157        17692.5095   \n",
              "\n",
              "            instability_index  isoelectric_point  helix_fraction  \\\n",
              "uniprot_id                                                         \n",
              "P32643              40.259795           5.866034        0.310580   \n",
              "Q46829              34.295149           5.655559        0.329787   \n",
              "P65556              54.505159           4.679577        0.286624   \n",
              "\n",
              "            turn_fraction  sheet_fraction  \\\n",
              "uniprot_id                                  \n",
              "P32643           0.208191        0.187713   \n",
              "Q46829           0.214894        0.225532   \n",
              "P65556           0.165605        0.312102   \n",
              "\n",
              "            reduced_molar_extinction_coefficient  ...   A2   B2    C2  A3  \\\n",
              "uniprot_id                                        ...                       \n",
              "P32643                                     59360  ...    0  0.0   0.0   0   \n",
              "Q46829                                    111160  ...  279  1.1  92.5   0   \n",
              "P65556                                     24980  ...    0  0.0   0.0   0   \n",
              "\n",
              "             B3   C3  A4   B4  C4  TM  \n",
              "uniprot_id                             \n",
              "P32643      0.0  0.0   0  0.0   0   0  \n",
              "Q46829      0.0  0.0   0  0.0   0   0  \n",
              "P65556      0.0  0.0   0  0.0   0   0  \n",
              "\n",
              "[3 rows x 46 columns]"
            ],
            "text/html": [
              "\n",
              "  <div id=\"df-3404cb88-d79a-4fe9-af83-6a405139138f\">\n",
              "    <div class=\"colab-df-container\">\n",
              "      <div>\n",
              "<style scoped>\n",
              "    .dataframe tbody tr th:only-of-type {\n",
              "        vertical-align: middle;\n",
              "    }\n",
              "\n",
              "    .dataframe tbody tr th {\n",
              "        vertical-align: top;\n",
              "    }\n",
              "\n",
              "    .dataframe thead th {\n",
              "        text-align: right;\n",
              "    }\n",
              "</style>\n",
              "<table border=\"1\" class=\"dataframe\">\n",
              "  <thead>\n",
              "    <tr style=\"text-align: right;\">\n",
              "      <th></th>\n",
              "      <th>solubility</th>\n",
              "      <th>protein_sasa</th>\n",
              "      <th>length</th>\n",
              "      <th>molecular_weight</th>\n",
              "      <th>instability_index</th>\n",
              "      <th>isoelectric_point</th>\n",
              "      <th>helix_fraction</th>\n",
              "      <th>turn_fraction</th>\n",
              "      <th>sheet_fraction</th>\n",
              "      <th>reduced_molar_extinction_coefficient</th>\n",
              "      <th>...</th>\n",
              "      <th>A2</th>\n",
              "      <th>B2</th>\n",
              "      <th>C2</th>\n",
              "      <th>A3</th>\n",
              "      <th>B3</th>\n",
              "      <th>C3</th>\n",
              "      <th>A4</th>\n",
              "      <th>B4</th>\n",
              "      <th>C4</th>\n",
              "      <th>TM</th>\n",
              "    </tr>\n",
              "    <tr>\n",
              "      <th>uniprot_id</th>\n",
              "      <th></th>\n",
              "      <th></th>\n",
              "      <th></th>\n",
              "      <th></th>\n",
              "      <th></th>\n",
              "      <th></th>\n",
              "      <th></th>\n",
              "      <th></th>\n",
              "      <th></th>\n",
              "      <th></th>\n",
              "      <th></th>\n",
              "      <th></th>\n",
              "      <th></th>\n",
              "      <th></th>\n",
              "      <th></th>\n",
              "      <th></th>\n",
              "      <th></th>\n",
              "      <th></th>\n",
              "      <th></th>\n",
              "      <th></th>\n",
              "      <th></th>\n",
              "    </tr>\n",
              "  </thead>\n",
              "  <tbody>\n",
              "    <tr>\n",
              "      <th>P32643</th>\n",
              "      <td>78</td>\n",
              "      <td>14538.357720</td>\n",
              "      <td>293</td>\n",
              "      <td>33936.5675</td>\n",
              "      <td>40.259795</td>\n",
              "      <td>5.866034</td>\n",
              "      <td>0.310580</td>\n",
              "      <td>0.208191</td>\n",
              "      <td>0.187713</td>\n",
              "      <td>59360</td>\n",
              "      <td>...</td>\n",
              "      <td>0</td>\n",
              "      <td>0.0</td>\n",
              "      <td>0.0</td>\n",
              "      <td>0</td>\n",
              "      <td>0.0</td>\n",
              "      <td>0.0</td>\n",
              "      <td>0</td>\n",
              "      <td>0.0</td>\n",
              "      <td>0</td>\n",
              "      <td>0</td>\n",
              "    </tr>\n",
              "    <tr>\n",
              "      <th>Q46829</th>\n",
              "      <td>70</td>\n",
              "      <td>19283.018950</td>\n",
              "      <td>470</td>\n",
              "      <td>54516.1438</td>\n",
              "      <td>34.295149</td>\n",
              "      <td>5.655559</td>\n",
              "      <td>0.329787</td>\n",
              "      <td>0.214894</td>\n",
              "      <td>0.225532</td>\n",
              "      <td>111160</td>\n",
              "      <td>...</td>\n",
              "      <td>279</td>\n",
              "      <td>1.1</td>\n",
              "      <td>92.5</td>\n",
              "      <td>0</td>\n",
              "      <td>0.0</td>\n",
              "      <td>0.0</td>\n",
              "      <td>0</td>\n",
              "      <td>0.0</td>\n",
              "      <td>0</td>\n",
              "      <td>0</td>\n",
              "    </tr>\n",
              "    <tr>\n",
              "      <th>P65556</th>\n",
              "      <td>19</td>\n",
              "      <td>8407.794332</td>\n",
              "      <td>157</td>\n",
              "      <td>17692.5095</td>\n",
              "      <td>54.505159</td>\n",
              "      <td>4.679577</td>\n",
              "      <td>0.286624</td>\n",
              "      <td>0.165605</td>\n",
              "      <td>0.312102</td>\n",
              "      <td>24980</td>\n",
              "      <td>...</td>\n",
              "      <td>0</td>\n",
              "      <td>0.0</td>\n",
              "      <td>0.0</td>\n",
              "      <td>0</td>\n",
              "      <td>0.0</td>\n",
              "      <td>0.0</td>\n",
              "      <td>0</td>\n",
              "      <td>0.0</td>\n",
              "      <td>0</td>\n",
              "      <td>0</td>\n",
              "    </tr>\n",
              "  </tbody>\n",
              "</table>\n",
              "<p>3 rows × 46 columns</p>\n",
              "</div>\n",
              "      <button class=\"colab-df-convert\" onclick=\"convertToInteractive('df-3404cb88-d79a-4fe9-af83-6a405139138f')\"\n",
              "              title=\"Convert this dataframe to an interactive table.\"\n",
              "              style=\"display:none;\">\n",
              "        \n",
              "  <svg xmlns=\"http://www.w3.org/2000/svg\" height=\"24px\"viewBox=\"0 0 24 24\"\n",
              "       width=\"24px\">\n",
              "    <path d=\"M0 0h24v24H0V0z\" fill=\"none\"/>\n",
              "    <path d=\"M18.56 5.44l.94 2.06.94-2.06 2.06-.94-2.06-.94-.94-2.06-.94 2.06-2.06.94zm-11 1L8.5 8.5l.94-2.06 2.06-.94-2.06-.94L8.5 2.5l-.94 2.06-2.06.94zm10 10l.94 2.06.94-2.06 2.06-.94-2.06-.94-.94-2.06-.94 2.06-2.06.94z\"/><path d=\"M17.41 7.96l-1.37-1.37c-.4-.4-.92-.59-1.43-.59-.52 0-1.04.2-1.43.59L10.3 9.45l-7.72 7.72c-.78.78-.78 2.05 0 2.83L4 21.41c.39.39.9.59 1.41.59.51 0 1.02-.2 1.41-.59l7.78-7.78 2.81-2.81c.8-.78.8-2.07 0-2.86zM5.41 20L4 18.59l7.72-7.72 1.47 1.35L5.41 20z\"/>\n",
              "  </svg>\n",
              "      </button>\n",
              "      \n",
              "  <style>\n",
              "    .colab-df-container {\n",
              "      display:flex;\n",
              "      flex-wrap:wrap;\n",
              "      gap: 12px;\n",
              "    }\n",
              "\n",
              "    .colab-df-convert {\n",
              "      background-color: #E8F0FE;\n",
              "      border: none;\n",
              "      border-radius: 50%;\n",
              "      cursor: pointer;\n",
              "      display: none;\n",
              "      fill: #1967D2;\n",
              "      height: 32px;\n",
              "      padding: 0 0 0 0;\n",
              "      width: 32px;\n",
              "    }\n",
              "\n",
              "    .colab-df-convert:hover {\n",
              "      background-color: #E2EBFA;\n",
              "      box-shadow: 0px 1px 2px rgba(60, 64, 67, 0.3), 0px 1px 3px 1px rgba(60, 64, 67, 0.15);\n",
              "      fill: #174EA6;\n",
              "    }\n",
              "\n",
              "    [theme=dark] .colab-df-convert {\n",
              "      background-color: #3B4455;\n",
              "      fill: #D2E3FC;\n",
              "    }\n",
              "\n",
              "    [theme=dark] .colab-df-convert:hover {\n",
              "      background-color: #434B5C;\n",
              "      box-shadow: 0px 1px 3px 1px rgba(0, 0, 0, 0.15);\n",
              "      filter: drop-shadow(0px 1px 2px rgba(0, 0, 0, 0.3));\n",
              "      fill: #FFFFFF;\n",
              "    }\n",
              "  </style>\n",
              "\n",
              "      <script>\n",
              "        const buttonEl =\n",
              "          document.querySelector('#df-3404cb88-d79a-4fe9-af83-6a405139138f button.colab-df-convert');\n",
              "        buttonEl.style.display =\n",
              "          google.colab.kernel.accessAllowed ? 'block' : 'none';\n",
              "\n",
              "        async function convertToInteractive(key) {\n",
              "          const element = document.querySelector('#df-3404cb88-d79a-4fe9-af83-6a405139138f');\n",
              "          const dataTable =\n",
              "            await google.colab.kernel.invokeFunction('convertToInteractive',\n",
              "                                                     [key], {});\n",
              "          if (!dataTable) return;\n",
              "\n",
              "          const docLinkHtml = 'Like what you see? Visit the ' +\n",
              "            '<a target=\"_blank\" href=https://colab.research.google.com/notebooks/data_table.ipynb>data table notebook</a>'\n",
              "            + ' to learn more about interactive tables.';\n",
              "          element.innerHTML = '';\n",
              "          dataTable['output_type'] = 'display_data';\n",
              "          await google.colab.output.renderOutput(dataTable, element);\n",
              "          const docLink = document.createElement('div');\n",
              "          docLink.innerHTML = docLinkHtml;\n",
              "          element.appendChild(docLink);\n",
              "        }\n",
              "      </script>\n",
              "    </div>\n",
              "  </div>\n",
              "  "
            ]
          },
          "metadata": {},
          "execution_count": 52
        }
      ]
    },
    {
      "cell_type": "code",
      "metadata": {
        "id": "26dd218d-46fe-4e82-b7ac-eceb40f2042d"
      },
      "source": [
        "X = sol.iloc[:,1:]\n",
        "y = sol[\"solubility\"]"
      ],
      "id": "26dd218d-46fe-4e82-b7ac-eceb40f2042d",
      "execution_count": 53,
      "outputs": []
    },
    {
      "cell_type": "markdown",
      "metadata": {
        "id": "a81b5a30-1c29-43de-b8e1-9604c77da775"
      },
      "source": [
        "**Разбейте X и y на тренировочную и тестовую выборки**, как в лекции. Соотношение train/test поставьте равным 4:1.\\\n",
        "*Подсказка*: воспользуйтесь функцией `train_test_split`."
      ],
      "id": "a81b5a30-1c29-43de-b8e1-9604c77da775"
    },
    {
      "cell_type": "code",
      "metadata": {
        "id": "eb40457f-b8b5-447d-8497-efe3b0671b71"
      },
      "source": [
        "X_train, X_test, y_train, y_test = train_test_split(X, y, test_size=0.2, \n",
        "                                                    random_state=777)"
      ],
      "id": "eb40457f-b8b5-447d-8497-efe3b0671b71",
      "execution_count": 54,
      "outputs": []
    },
    {
      "cell_type": "markdown",
      "metadata": {
        "id": "29b75ec0-447f-4b6c-bb9f-31fa67acf73f"
      },
      "source": [
        "**Осуществите стандартизацию признаков в выборке**."
      ],
      "id": "29b75ec0-447f-4b6c-bb9f-31fa67acf73f"
    },
    {
      "cell_type": "code",
      "metadata": {
        "id": "0462e61c-0fba-442b-be4d-ed4eeefc30db"
      },
      "source": [
        "scaler = StandardScaler()\n",
        "scaler.fit(X_train)\n",
        "X_train = scaler.transform(X_train)\n",
        "X_test = scaler.transform(X_test)"
      ],
      "id": "0462e61c-0fba-442b-be4d-ed4eeefc30db",
      "execution_count": 55,
      "outputs": []
    },
    {
      "cell_type": "markdown",
      "metadata": {
        "id": "0c151708-47a0-4437-a0d9-596f9fe6d726"
      },
      "source": [
        "**Импортируйте модель регрессии k-NN и обучите ее (`model.fit`)**.\\\n",
        "*Вопрос*: на какой части выборки происходит обучение: тренировочной или тестовой?"
      ],
      "id": "0c151708-47a0-4437-a0d9-596f9fe6d726"
    },
    {
      "cell_type": "code",
      "metadata": {
        "id": "f56a89e5-4a31-4ccb-ba4f-c61a467b84a2",
        "colab": {
          "base_uri": "https://localhost:8080/"
        },
        "outputId": "65e40dc6-dd18-4df8-a6e3-a2ea8d0d4377"
      },
      "source": [
        "model = KNeighborsRegressor()\n",
        "model.fit(X_train, y_train) #Обучение происходит на тренировочной выборке"
      ],
      "id": "f56a89e5-4a31-4ccb-ba4f-c61a467b84a2",
      "execution_count": 56,
      "outputs": [
        {
          "output_type": "execute_result",
          "data": {
            "text/plain": [
              "KNeighborsRegressor()"
            ]
          },
          "metadata": {},
          "execution_count": 56
        }
      ]
    },
    {
      "cell_type": "markdown",
      "metadata": {
        "id": "381dbe6d-1366-4ed4-b8f9-81379d7506a0"
      },
      "source": [
        "**Получите предсказание на оставшейся выборке**. Оцените его качество метриками RMSE, MAE."
      ],
      "id": "381dbe6d-1366-4ed4-b8f9-81379d7506a0"
    },
    {
      "cell_type": "code",
      "metadata": {
        "id": "4a6dd01e-44ec-470c-8c69-63201384dfd8",
        "colab": {
          "base_uri": "https://localhost:8080/"
        },
        "outputId": "4d016046-de27-4f0d-ee02-3e546e0db624"
      },
      "source": [
        "y_pred = model.predict(X_test)\n",
        "print(f'MSE: {mean_squared_error(y_true=y_test, y_pred=y_pred)}')\n",
        "print(f'MAE: {mean_absolute_error(y_true=y_test, y_pred=y_pred)}')"
      ],
      "id": "4a6dd01e-44ec-470c-8c69-63201384dfd8",
      "execution_count": 57,
      "outputs": [
        {
          "output_type": "stream",
          "name": "stdout",
          "text": [
            "MSE: 792.9449462365591\n",
            "MAE: 24.182795698924732\n"
          ]
        }
      ]
    },
    {
      "cell_type": "markdown",
      "metadata": {
        "id": "3a8da971-b518-4052-8261-f970870b3743"
      },
      "source": [
        "Следующая функция строит график зависимости качества на тестовой и тренировочной выборках от параметра модели.\\\n",
        "Измените помеченную строку в функции так, чтобы ее можно было использовать **для построения графика зависимости качества от количества соседей для модели k-NN**."
      ],
      "id": "3a8da971-b518-4052-8261-f970870b3743"
    },
    {
      "cell_type": "code",
      "metadata": {
        "id": "c5f6c835-17e6-43cd-aa37-b1c4b6ad25dd"
      },
      "source": [
        "from sklearn.metrics import mean_squared_error\n",
        "\n",
        "def make_qual_chart(X_train, X_test, y_train, y_test, metric=mean_squared_error, limit=50):\n",
        "    train_quals = np.zeros(limit)\n",
        "    test_quals = np.zeros(limit)\n",
        "    param_range = np.arange(1, limit + 1)\n",
        "    \n",
        "    for ind, value in enumerate(param_range):\n",
        "        ### CHANGE THE NEXT LINE!\n",
        "        model = KNeighborsRegressor(value)\n",
        "        # FIT\n",
        "        model.fit(X_train, y_train)\n",
        "        # PREDICT\n",
        "        y_train_pred = model.predict(X_train)\n",
        "        y_test_pred = model.predict(X_test)\n",
        "        # EVALUATE QUALITY\n",
        "        train_quals[ind] = metric(y_true=y_train, y_pred=y_train_pred)\n",
        "        test_quals[ind] = metric(y_true=y_test, y_pred=y_test_pred)\n",
        "    \n",
        "    baseline = metric(y_true=y_test, y_pred=np.full_like(y_test, y_train.mean()))\n",
        "    \n",
        "    # TRACING CHART\n",
        "    plt.figure(figsize=(10, 7))\n",
        "    plt.plot(param_range, train_quals, label=\"Train\")\n",
        "    plt.plot(param_range, test_quals, label=\"Test\")\n",
        "    plt.axhline(baseline, color=\"k\", ls=\"--\", lw=1.5, label=\"Baseline\")\n",
        "    plt.xlabel(\"Количество соседей\")\n",
        "    plt.ylabel(\"MSE\")\n",
        "    plt.legend()\n",
        "    plt.show()\n",
        "    return param_range, train_quals, test_quals"
      ],
      "id": "c5f6c835-17e6-43cd-aa37-b1c4b6ad25dd",
      "execution_count": 69,
      "outputs": []
    },
    {
      "cell_type": "code",
      "metadata": {
        "id": "3589c57d-d338-41ab-98e8-8e9c12bcda50",
        "colab": {
          "base_uri": "https://localhost:8080/",
          "height": 451
        },
        "outputId": "46d493f5-341c-4d9c-ed7e-304dded6ac79"
      },
      "source": [
        "make_qual_chart(X_train, X_test, y_train, y_test, metric=mean_squared_error, limit=30);"
      ],
      "id": "3589c57d-d338-41ab-98e8-8e9c12bcda50",
      "execution_count": 70,
      "outputs": [
        {
          "output_type": "display_data",
          "data": {
            "text/plain": [
              "<Figure size 720x504 with 1 Axes>"
            ],
            "image/png": "[encoded data removed]"
          },
          "metadata": {}
        }
      ]
    },
    {
      "cell_type": "markdown",
      "metadata": {
        "id": "770d6ecb-37be-4a13-89d0-0c969e634543"
      },
      "source": [
        "Сделайте вывод о том, **какое число соседей является оптимальным для данной задачи**."
      ],
      "id": "770d6ecb-37be-4a13-89d0-0c969e634543"
    },
    {
      "cell_type": "markdown",
      "source": [
        "_Предполагаю, что оптимальным числом соседей k в данном случе будет не более 10, исходя из графика можно выбрать k=8(после этого числа соседей ошибка на тестовой выборке не увеличивается)._"
      ],
      "metadata": {
        "id": "HoMvdiDPopYO"
      },
      "id": "HoMvdiDPopYO"
    },
    {
      "cell_type": "code",
      "source": [
        "make_qual_chart(X_train, X_test, y_train, y_test, metric=mean_squared_error, limit=300);"
      ],
      "metadata": {
        "colab": {
          "base_uri": "https://localhost:8080/",
          "height": 451
        },
        "id": "dV0r8b5Nqmlm",
        "outputId": "9f9eaeb4-a506-4b37-b55f-a57767e23bbf"
      },
      "id": "dV0r8b5Nqmlm",
      "execution_count": 72,
      "outputs": [
        {
          "output_type": "display_data",
          "data": {
            "text/plain": [
              "<Figure size 720x504 with 1 Axes>"
            ],
            "image/png": "[encoded data removed]"
          },
          "metadata": {}
        }
      ]
    },
    {
      "cell_type": "markdown",
      "source": [
        "_Хочется отметить, что если построить график (см.выше) от бОльшего числа соседей, то чётко прослеживается увеличение ошибки после k=50 на тестовой выборке, далее обе ошибки (на тренировочной и на тестовой выборках) монотонно возрастают._"
      ],
      "metadata": {
        "id": "-fzBLR9Zqsyk"
      },
      "id": "-fzBLR9Zqsyk"
    },
    {
      "cell_type": "markdown",
      "metadata": {
        "id": "a87d79ba-c9b2-4fcd-bb61-e3a3561b7309"
      },
      "source": [
        "### Задача 2: Обучение на геномных эмбеддингах"
      ],
      "id": "a87d79ba-c9b2-4fcd-bb61-e3a3561b7309"
    },
    {
      "cell_type": "markdown",
      "metadata": {
        "id": "018a8ba8-9f12-4aab-9b98-560553982e3b"
      },
      "source": [
        "В этой задаче предлагается произвести трехклассовую классификацию разных однонуклеотидных замен в ДНК, основываясь на их нейросетевых геномных эмбеддингах."
      ],
      "id": "018a8ba8-9f12-4aab-9b98-560553982e3b"
    },
    {
      "cell_type": "code",
      "metadata": {
        "id": "DRbz9nBPPHo3",
        "colab": {
          "base_uri": "https://localhost:8080/"
        },
        "outputId": "f5ce6043-b269-4d73-bd3e-b9a3818abed7"
      },
      "source": [
        "!wget --no-check-certificate 'https://docs.google.com/uc?export=download&id=1RDTcTnhOcMX4DnJbzdPalWENNFtXi2r8' -O tfs_deepsea.csv"
      ],
      "id": "DRbz9nBPPHo3",
      "execution_count": 73,
      "outputs": [
        {
          "output_type": "stream",
          "name": "stdout",
          "text": [
            "--2022-09-26 21:20:37--  https://docs.google.com/uc?export=download&id=1RDTcTnhOcMX4DnJbzdPalWENNFtXi2r8\n",
            "Resolving docs.google.com (docs.google.com)... 74.125.203.113, 74.125.203.100, 74.125.203.139, ...\n",
            "Connecting to docs.google.com (docs.google.com)|74.125.203.113|:443... connected.\n",
            "HTTP request sent, awaiting response... 303 See Other\n",
            "Location: https://doc-00-50-docs.googleusercontent.com/docs/securesc/ha0ro937gcuc7l7deffksulhg5h7mbp1/pdo4ecju239jg4d98itaqe5gic2dhg2t/1664227200000/10688067377005935076/*/1RDTcTnhOcMX4DnJbzdPalWENNFtXi2r8?e=download&uuid=f7302d58-8683-44aa-bd16-2767644432ea [following]\n",
            "Warning: wildcards not supported in HTTP.\n",
            "--2022-09-26 21:20:38--  https://doc-00-50-docs.googleusercontent.com/docs/securesc/ha0ro937gcuc7l7deffksulhg5h7mbp1/pdo4ecju239jg4d98itaqe5gic2dhg2t/1664227200000/10688067377005935076/*/1RDTcTnhOcMX4DnJbzdPalWENNFtXi2r8?e=download&uuid=f7302d58-8683-44aa-bd16-2767644432ea\n",
            "Resolving doc-00-50-docs.googleusercontent.com (doc-00-50-docs.googleusercontent.com)... 142.250.157.132, 2404:6800:4008:c13::84\n",
            "Connecting to doc-00-50-docs.googleusercontent.com (doc-00-50-docs.googleusercontent.com)|142.250.157.132|:443... connected.\n",
            "HTTP request sent, awaiting response... 200 OK\n",
            "Length: 1098058 (1.0M) [text/csv]\n",
            "Saving to: ‘tfs_deepsea.csv’\n",
            "\n",
            "tfs_deepsea.csv     100%[===================>]   1.05M  --.-KB/s    in 0.008s  \n",
            "\n",
            "2022-09-26 21:20:39 (135 MB/s) - ‘tfs_deepsea.csv’ saved [1098058/1098058]\n",
            "\n"
          ]
        }
      ]
    },
    {
      "cell_type": "markdown",
      "metadata": {
        "id": "a9c427c4-a23b-4452-92b4-26ed2624ab5f"
      },
      "source": [
        "Загрузите датасет `tfs_deepsea.csv`, в качестве `y` используйте колонку `Direction`, в качестве `X` - все колонки, начиная с девятой."
      ],
      "id": "a9c427c4-a23b-4452-92b4-26ed2624ab5f"
    },
    {
      "cell_type": "code",
      "metadata": {
        "id": "10bdbee0-9e71-4ad7-8e20-3ba96a47e0c4",
        "colab": {
          "base_uri": "https://localhost:8080/",
          "height": 254
        },
        "outputId": "e0a8f6ea-39f3-483e-9cdb-3d4eeda8c3dd"
      },
      "source": [
        "tfs = pd.read_csv(\"tfs_deepsea.csv\", header=0)\n",
        "tfs.head(3)"
      ],
      "id": "10bdbee0-9e71-4ad7-8e20-3ba96a47e0c4",
      "execution_count": 74,
      "outputs": [
        {
          "output_type": "execute_result",
          "data": {
            "text/plain": [
              "   Chrom        Pos Ref Alt     Value  Confidence  Direction construction  \\\n",
              "0      9  104195582   G   C -0.009418    0.001075          0        ALDOB   \n",
              "1      9  104195582   G   T -0.212088    0.034187          0        ALDOB   \n",
              "2      9  104195700   T   A  0.709840    0.364072          1        ALDOB   \n",
              "\n",
              "   alt@BRCA1@ds_HepG2_normal  alt@CTCF@ds_HCM_normal  ...  \\\n",
              "0                   0.000056                0.000949  ...   \n",
              "1                   0.000051                0.000857  ...   \n",
              "2                   0.000089                0.001784  ...   \n",
              "\n",
              "   ref@GATA3@ds_MCF-7_normal  ref@JunD@ds_H1-hESC_None.1  \\\n",
              "0                    0.00934                    0.000637   \n",
              "1                    0.00934                    0.000637   \n",
              "2                    0.00292                    0.001019   \n",
              "\n",
              "   ref@MafK@ds_K562_normal  ref@NRSF@ds_A549_EtOH_0.02pct  \\\n",
              "0                 0.082889                       0.007880   \n",
              "1                 0.082889                       0.007880   \n",
              "2                 0.100890                       0.004289   \n",
              "\n",
              "   ref@Pol2-4H8@ds_GM12891_normal  ref@Pol2@ds_GM12878_None.2  \\\n",
              "0                        0.000568                    0.000095   \n",
              "1                        0.000568                    0.000095   \n",
              "2                        0.000554                    0.000142   \n",
              "\n",
              "   ref@Pol2@ds_GM12878_None.3  ref@Pol2@ds_GM12878_normal  \\\n",
              "0                    0.000287                    0.000147   \n",
              "1                    0.000287                    0.000147   \n",
              "2                    0.000209                    0.000282   \n",
              "\n",
              "   ref@c-Fos@ds_K562_normal  ref@c-Myc@ds_K562_normal  \n",
              "0                  0.000588                  0.001214  \n",
              "1                  0.000588                  0.001214  \n",
              "2                  0.001091                  0.000891  \n",
              "\n",
              "[3 rows x 108 columns]"
            ],
            "text/html": [
              "\n",
              "  <div id=\"df-4569108b-47f9-4f6a-8106-68873ca830e7\">\n",
              "    <div class=\"colab-df-container\">\n",
              "      <div>\n",
              "<style scoped>\n",
              "    .dataframe tbody tr th:only-of-type {\n",
              "        vertical-align: middle;\n",
              "    }\n",
              "\n",
              "    .dataframe tbody tr th {\n",
              "        vertical-align: top;\n",
              "    }\n",
              "\n",
              "    .dataframe thead th {\n",
              "        text-align: right;\n",
              "    }\n",
              "</style>\n",
              "<table border=\"1\" class=\"dataframe\">\n",
              "  <thead>\n",
              "    <tr style=\"text-align: right;\">\n",
              "      <th></th>\n",
              "      <th>Chrom</th>\n",
              "      <th>Pos</th>\n",
              "      <th>Ref</th>\n",
              "      <th>Alt</th>\n",
              "      <th>Value</th>\n",
              "      <th>Confidence</th>\n",
              "      <th>Direction</th>\n",
              "      <th>construction</th>\n",
              "      <th>alt@BRCA1@ds_HepG2_normal</th>\n",
              "      <th>alt@CTCF@ds_HCM_normal</th>\n",
              "      <th>...</th>\n",
              "      <th>ref@GATA3@ds_MCF-7_normal</th>\n",
              "      <th>ref@JunD@ds_H1-hESC_None.1</th>\n",
              "      <th>ref@MafK@ds_K562_normal</th>\n",
              "      <th>ref@NRSF@ds_A549_EtOH_0.02pct</th>\n",
              "      <th>ref@Pol2-4H8@ds_GM12891_normal</th>\n",
              "      <th>ref@Pol2@ds_GM12878_None.2</th>\n",
              "      <th>ref@Pol2@ds_GM12878_None.3</th>\n",
              "      <th>ref@Pol2@ds_GM12878_normal</th>\n",
              "      <th>ref@c-Fos@ds_K562_normal</th>\n",
              "      <th>ref@c-Myc@ds_K562_normal</th>\n",
              "    </tr>\n",
              "  </thead>\n",
              "  <tbody>\n",
              "    <tr>\n",
              "      <th>0</th>\n",
              "      <td>9</td>\n",
              "      <td>104195582</td>\n",
              "      <td>G</td>\n",
              "      <td>C</td>\n",
              "      <td>-0.009418</td>\n",
              "      <td>0.001075</td>\n",
              "      <td>0</td>\n",
              "      <td>ALDOB</td>\n",
              "      <td>0.000056</td>\n",
              "      <td>0.000949</td>\n",
              "      <td>...</td>\n",
              "      <td>0.00934</td>\n",
              "      <td>0.000637</td>\n",
              "      <td>0.082889</td>\n",
              "      <td>0.007880</td>\n",
              "      <td>0.000568</td>\n",
              "      <td>0.000095</td>\n",
              "      <td>0.000287</td>\n",
              "      <td>0.000147</td>\n",
              "      <td>0.000588</td>\n",
              "      <td>0.001214</td>\n",
              "    </tr>\n",
              "    <tr>\n",
              "      <th>1</th>\n",
              "      <td>9</td>\n",
              "      <td>104195582</td>\n",
              "      <td>G</td>\n",
              "      <td>T</td>\n",
              "      <td>-0.212088</td>\n",
              "      <td>0.034187</td>\n",
              "      <td>0</td>\n",
              "      <td>ALDOB</td>\n",
              "      <td>0.000051</td>\n",
              "      <td>0.000857</td>\n",
              "      <td>...</td>\n",
              "      <td>0.00934</td>\n",
              "      <td>0.000637</td>\n",
              "      <td>0.082889</td>\n",
              "      <td>0.007880</td>\n",
              "      <td>0.000568</td>\n",
              "      <td>0.000095</td>\n",
              "      <td>0.000287</td>\n",
              "      <td>0.000147</td>\n",
              "      <td>0.000588</td>\n",
              "      <td>0.001214</td>\n",
              "    </tr>\n",
              "    <tr>\n",
              "      <th>2</th>\n",
              "      <td>9</td>\n",
              "      <td>104195700</td>\n",
              "      <td>T</td>\n",
              "      <td>A</td>\n",
              "      <td>0.709840</td>\n",
              "      <td>0.364072</td>\n",
              "      <td>1</td>\n",
              "      <td>ALDOB</td>\n",
              "      <td>0.000089</td>\n",
              "      <td>0.001784</td>\n",
              "      <td>...</td>\n",
              "      <td>0.00292</td>\n",
              "      <td>0.001019</td>\n",
              "      <td>0.100890</td>\n",
              "      <td>0.004289</td>\n",
              "      <td>0.000554</td>\n",
              "      <td>0.000142</td>\n",
              "      <td>0.000209</td>\n",
              "      <td>0.000282</td>\n",
              "      <td>0.001091</td>\n",
              "      <td>0.000891</td>\n",
              "    </tr>\n",
              "  </tbody>\n",
              "</table>\n",
              "<p>3 rows × 108 columns</p>\n",
              "</div>\n",
              "      <button class=\"colab-df-convert\" onclick=\"convertToInteractive('df-4569108b-47f9-4f6a-8106-68873ca830e7')\"\n",
              "              title=\"Convert this dataframe to an interactive table.\"\n",
              "              style=\"display:none;\">\n",
              "        \n",
              "  <svg xmlns=\"http://www.w3.org/2000/svg\" height=\"24px\"viewBox=\"0 0 24 24\"\n",
              "       width=\"24px\">\n",
              "    <path d=\"M0 0h24v24H0V0z\" fill=\"none\"/>\n",
              "    <path d=\"M18.56 5.44l.94 2.06.94-2.06 2.06-.94-2.06-.94-.94-2.06-.94 2.06-2.06.94zm-11 1L8.5 8.5l.94-2.06 2.06-.94-2.06-.94L8.5 2.5l-.94 2.06-2.06.94zm10 10l.94 2.06.94-2.06 2.06-.94-2.06-.94-.94-2.06-.94 2.06-2.06.94z\"/><path d=\"M17.41 7.96l-1.37-1.37c-.4-.4-.92-.59-1.43-.59-.52 0-1.04.2-1.43.59L10.3 9.45l-7.72 7.72c-.78.78-.78 2.05 0 2.83L4 21.41c.39.39.9.59 1.41.59.51 0 1.02-.2 1.41-.59l7.78-7.78 2.81-2.81c.8-.78.8-2.07 0-2.86zM5.41 20L4 18.59l7.72-7.72 1.47 1.35L5.41 20z\"/>\n",
              "  </svg>\n",
              "      </button>\n",
              "      \n",
              "  <style>\n",
              "    .colab-df-container {\n",
              "      display:flex;\n",
              "      flex-wrap:wrap;\n",
              "      gap: 12px;\n",
              "    }\n",
              "\n",
              "    .colab-df-convert {\n",
              "      background-color: #E8F0FE;\n",
              "      border: none;\n",
              "      border-radius: 50%;\n",
              "      cursor: pointer;\n",
              "      display: none;\n",
              "      fill: #1967D2;\n",
              "      height: 32px;\n",
              "      padding: 0 0 0 0;\n",
              "      width: 32px;\n",
              "    }\n",
              "\n",
              "    .colab-df-convert:hover {\n",
              "      background-color: #E2EBFA;\n",
              "      box-shadow: 0px 1px 2px rgba(60, 64, 67, 0.3), 0px 1px 3px 1px rgba(60, 64, 67, 0.15);\n",
              "      fill: #174EA6;\n",
              "    }\n",
              "\n",
              "    [theme=dark] .colab-df-convert {\n",
              "      background-color: #3B4455;\n",
              "      fill: #D2E3FC;\n",
              "    }\n",
              "\n",
              "    [theme=dark] .colab-df-convert:hover {\n",
              "      background-color: #434B5C;\n",
              "      box-shadow: 0px 1px 3px 1px rgba(0, 0, 0, 0.15);\n",
              "      filter: drop-shadow(0px 1px 2px rgba(0, 0, 0, 0.3));\n",
              "      fill: #FFFFFF;\n",
              "    }\n",
              "  </style>\n",
              "\n",
              "      <script>\n",
              "        const buttonEl =\n",
              "          document.querySelector('#df-4569108b-47f9-4f6a-8106-68873ca830e7 button.colab-df-convert');\n",
              "        buttonEl.style.display =\n",
              "          google.colab.kernel.accessAllowed ? 'block' : 'none';\n",
              "\n",
              "        async function convertToInteractive(key) {\n",
              "          const element = document.querySelector('#df-4569108b-47f9-4f6a-8106-68873ca830e7');\n",
              "          const dataTable =\n",
              "            await google.colab.kernel.invokeFunction('convertToInteractive',\n",
              "                                                     [key], {});\n",
              "          if (!dataTable) return;\n",
              "\n",
              "          const docLinkHtml = 'Like what you see? Visit the ' +\n",
              "            '<a target=\"_blank\" href=https://colab.research.google.com/notebooks/data_table.ipynb>data table notebook</a>'\n",
              "            + ' to learn more about interactive tables.';\n",
              "          element.innerHTML = '';\n",
              "          dataTable['output_type'] = 'display_data';\n",
              "          await google.colab.output.renderOutput(dataTable, element);\n",
              "          const docLink = document.createElement('div');\n",
              "          docLink.innerHTML = docLinkHtml;\n",
              "          element.appendChild(docLink);\n",
              "        }\n",
              "      </script>\n",
              "    </div>\n",
              "  </div>\n",
              "  "
            ]
          },
          "metadata": {},
          "execution_count": 74
        }
      ]
    },
    {
      "cell_type": "code",
      "metadata": {
        "id": "7e5fba7c-2ca3-44eb-9604-68d8cecd8c99"
      },
      "source": [
        "X = tfs.iloc[:, 9:]\n",
        "y = tfs['Direction']"
      ],
      "id": "7e5fba7c-2ca3-44eb-9604-68d8cecd8c99",
      "execution_count": 106,
      "outputs": []
    },
    {
      "cell_type": "code",
      "source": [
        "X.head()"
      ],
      "metadata": {
        "colab": {
          "base_uri": "https://localhost:8080/",
          "height": 317
        },
        "id": "C2ajR5XGtOc_",
        "outputId": "304e3a84-72dc-4f14-a3a8-8e12754423eb"
      },
      "id": "C2ajR5XGtOc_",
      "execution_count": 107,
      "outputs": [
        {
          "output_type": "execute_result",
          "data": {
            "text/plain": [
              "   alt@CTCF@ds_HCM_normal  alt@DNase@ds_GM06990_normal  \\\n",
              "0                0.000949                     0.005588   \n",
              "1                0.000857                     0.006543   \n",
              "2                0.001784                     0.008986   \n",
              "3                0.001538                     0.008108   \n",
              "4                0.001784                     0.008564   \n",
              "\n",
              "   alt@DNase@ds_HRE_normal  alt@ELF1@ds_GM12878_normal  \\\n",
              "0                 0.032168                    0.000060   \n",
              "1                 0.027380                    0.000060   \n",
              "2                 0.161180                    0.000086   \n",
              "3                 0.118170                    0.000090   \n",
              "4                 0.156840                    0.000102   \n",
              "\n",
              "   alt@GATA-1@ds_PBDE_normal  alt@GR@ds_A549_DEX_500pM  \\\n",
              "0                   0.006015                  0.000959   \n",
              "1                   0.005420                  0.000793   \n",
              "2                   0.004401                  0.001779   \n",
              "3                   0.004464                  0.001636   \n",
              "4                   0.004632                  0.002136   \n",
              "\n",
              "   alt@H3K4me3@ds_NHDF-Ad_normal  alt@H3K9me3@ds_NHLF_normal  \\\n",
              "0                       0.002953                    0.000253   \n",
              "1                       0.002678                    0.000259   \n",
              "2                       0.008086                    0.001602   \n",
              "3                       0.008273                    0.001479   \n",
              "4                       0.009151                    0.001432   \n",
              "\n",
              "   alt@NRSF@ds_H1-hESC_normal  alt@POU5F1@ds_H1-hESC_normal  ...  \\\n",
              "0                    0.000443                      0.000188  ...   \n",
              "1                    0.000400                      0.000170  ...   \n",
              "2                    0.001637                      0.000405  ...   \n",
              "3                    0.001845                      0.000566  ...   \n",
              "4                    0.001930                      0.000493  ...   \n",
              "\n",
              "   ref@GATA3@ds_MCF-7_normal  ref@JunD@ds_H1-hESC_None.1  \\\n",
              "0                    0.00934                    0.000637   \n",
              "1                    0.00934                    0.000637   \n",
              "2                    0.00292                    0.001019   \n",
              "3                    0.00292                    0.001019   \n",
              "4                    0.00292                    0.001019   \n",
              "\n",
              "   ref@MafK@ds_K562_normal  ref@NRSF@ds_A549_EtOH_0.02pct  \\\n",
              "0                 0.082889                       0.007880   \n",
              "1                 0.082889                       0.007880   \n",
              "2                 0.100890                       0.004289   \n",
              "3                 0.100890                       0.004289   \n",
              "4                 0.100890                       0.004289   \n",
              "\n",
              "   ref@Pol2-4H8@ds_GM12891_normal  ref@Pol2@ds_GM12878_None.2  \\\n",
              "0                        0.000568                    0.000095   \n",
              "1                        0.000568                    0.000095   \n",
              "2                        0.000554                    0.000142   \n",
              "3                        0.000554                    0.000142   \n",
              "4                        0.000554                    0.000142   \n",
              "\n",
              "   ref@Pol2@ds_GM12878_None.3  ref@Pol2@ds_GM12878_normal  \\\n",
              "0                    0.000287                    0.000147   \n",
              "1                    0.000287                    0.000147   \n",
              "2                    0.000209                    0.000282   \n",
              "3                    0.000209                    0.000282   \n",
              "4                    0.000209                    0.000282   \n",
              "\n",
              "   ref@c-Fos@ds_K562_normal  ref@c-Myc@ds_K562_normal  \n",
              "0                  0.000588                  0.001214  \n",
              "1                  0.000588                  0.001214  \n",
              "2                  0.001091                  0.000891  \n",
              "3                  0.001091                  0.000891  \n",
              "4                  0.001091                  0.000891  \n",
              "\n",
              "[5 rows x 99 columns]"
            ],
            "text/html": [
              "\n",
              "  <div id=\"df-b2591cbb-df49-4dfb-8b9a-f15a426b5d28\">\n",
              "    <div class=\"colab-df-container\">\n",
              "      <div>\n",
              "<style scoped>\n",
              "    .dataframe tbody tr th:only-of-type {\n",
              "        vertical-align: middle;\n",
              "    }\n",
              "\n",
              "    .dataframe tbody tr th {\n",
              "        vertical-align: top;\n",
              "    }\n",
              "\n",
              "    .dataframe thead th {\n",
              "        text-align: right;\n",
              "    }\n",
              "</style>\n",
              "<table border=\"1\" class=\"dataframe\">\n",
              "  <thead>\n",
              "    <tr style=\"text-align: right;\">\n",
              "      <th></th>\n",
              "      <th>alt@CTCF@ds_HCM_normal</th>\n",
              "      <th>alt@DNase@ds_GM06990_normal</th>\n",
              "      <th>alt@DNase@ds_HRE_normal</th>\n",
              "      <th>alt@ELF1@ds_GM12878_normal</th>\n",
              "      <th>alt@GATA-1@ds_PBDE_normal</th>\n",
              "      <th>alt@GR@ds_A549_DEX_500pM</th>\n",
              "      <th>alt@H3K4me3@ds_NHDF-Ad_normal</th>\n",
              "      <th>alt@H3K9me3@ds_NHLF_normal</th>\n",
              "      <th>alt@NRSF@ds_H1-hESC_normal</th>\n",
              "      <th>alt@POU5F1@ds_H1-hESC_normal</th>\n",
              "      <th>...</th>\n",
              "      <th>ref@GATA3@ds_MCF-7_normal</th>\n",
              "      <th>ref@JunD@ds_H1-hESC_None.1</th>\n",
              "      <th>ref@MafK@ds_K562_normal</th>\n",
              "      <th>ref@NRSF@ds_A549_EtOH_0.02pct</th>\n",
              "      <th>ref@Pol2-4H8@ds_GM12891_normal</th>\n",
              "      <th>ref@Pol2@ds_GM12878_None.2</th>\n",
              "      <th>ref@Pol2@ds_GM12878_None.3</th>\n",
              "      <th>ref@Pol2@ds_GM12878_normal</th>\n",
              "      <th>ref@c-Fos@ds_K562_normal</th>\n",
              "      <th>ref@c-Myc@ds_K562_normal</th>\n",
              "    </tr>\n",
              "  </thead>\n",
              "  <tbody>\n",
              "    <tr>\n",
              "      <th>0</th>\n",
              "      <td>0.000949</td>\n",
              "      <td>0.005588</td>\n",
              "      <td>0.032168</td>\n",
              "      <td>0.000060</td>\n",
              "      <td>0.006015</td>\n",
              "      <td>0.000959</td>\n",
              "      <td>0.002953</td>\n",
              "      <td>0.000253</td>\n",
              "      <td>0.000443</td>\n",
              "      <td>0.000188</td>\n",
              "      <td>...</td>\n",
              "      <td>0.00934</td>\n",
              "      <td>0.000637</td>\n",
              "      <td>0.082889</td>\n",
              "      <td>0.007880</td>\n",
              "      <td>0.000568</td>\n",
              "      <td>0.000095</td>\n",
              "      <td>0.000287</td>\n",
              "      <td>0.000147</td>\n",
              "      <td>0.000588</td>\n",
              "      <td>0.001214</td>\n",
              "    </tr>\n",
              "    <tr>\n",
              "      <th>1</th>\n",
              "      <td>0.000857</td>\n",
              "      <td>0.006543</td>\n",
              "      <td>0.027380</td>\n",
              "      <td>0.000060</td>\n",
              "      <td>0.005420</td>\n",
              "      <td>0.000793</td>\n",
              "      <td>0.002678</td>\n",
              "      <td>0.000259</td>\n",
              "      <td>0.000400</td>\n",
              "      <td>0.000170</td>\n",
              "      <td>...</td>\n",
              "      <td>0.00934</td>\n",
              "      <td>0.000637</td>\n",
              "      <td>0.082889</td>\n",
              "      <td>0.007880</td>\n",
              "      <td>0.000568</td>\n",
              "      <td>0.000095</td>\n",
              "      <td>0.000287</td>\n",
              "      <td>0.000147</td>\n",
              "      <td>0.000588</td>\n",
              "      <td>0.001214</td>\n",
              "    </tr>\n",
              "    <tr>\n",
              "      <th>2</th>\n",
              "      <td>0.001784</td>\n",
              "      <td>0.008986</td>\n",
              "      <td>0.161180</td>\n",
              "      <td>0.000086</td>\n",
              "      <td>0.004401</td>\n",
              "      <td>0.001779</td>\n",
              "      <td>0.008086</td>\n",
              "      <td>0.001602</td>\n",
              "      <td>0.001637</td>\n",
              "      <td>0.000405</td>\n",
              "      <td>...</td>\n",
              "      <td>0.00292</td>\n",
              "      <td>0.001019</td>\n",
              "      <td>0.100890</td>\n",
              "      <td>0.004289</td>\n",
              "      <td>0.000554</td>\n",
              "      <td>0.000142</td>\n",
              "      <td>0.000209</td>\n",
              "      <td>0.000282</td>\n",
              "      <td>0.001091</td>\n",
              "      <td>0.000891</td>\n",
              "    </tr>\n",
              "    <tr>\n",
              "      <th>3</th>\n",
              "      <td>0.001538</td>\n",
              "      <td>0.008108</td>\n",
              "      <td>0.118170</td>\n",
              "      <td>0.000090</td>\n",
              "      <td>0.004464</td>\n",
              "      <td>0.001636</td>\n",
              "      <td>0.008273</td>\n",
              "      <td>0.001479</td>\n",
              "      <td>0.001845</td>\n",
              "      <td>0.000566</td>\n",
              "      <td>...</td>\n",
              "      <td>0.00292</td>\n",
              "      <td>0.001019</td>\n",
              "      <td>0.100890</td>\n",
              "      <td>0.004289</td>\n",
              "      <td>0.000554</td>\n",
              "      <td>0.000142</td>\n",
              "      <td>0.000209</td>\n",
              "      <td>0.000282</td>\n",
              "      <td>0.001091</td>\n",
              "      <td>0.000891</td>\n",
              "    </tr>\n",
              "    <tr>\n",
              "      <th>4</th>\n",
              "      <td>0.001784</td>\n",
              "      <td>0.008564</td>\n",
              "      <td>0.156840</td>\n",
              "      <td>0.000102</td>\n",
              "      <td>0.004632</td>\n",
              "      <td>0.002136</td>\n",
              "      <td>0.009151</td>\n",
              "      <td>0.001432</td>\n",
              "      <td>0.001930</td>\n",
              "      <td>0.000493</td>\n",
              "      <td>...</td>\n",
              "      <td>0.00292</td>\n",
              "      <td>0.001019</td>\n",
              "      <td>0.100890</td>\n",
              "      <td>0.004289</td>\n",
              "      <td>0.000554</td>\n",
              "      <td>0.000142</td>\n",
              "      <td>0.000209</td>\n",
              "      <td>0.000282</td>\n",
              "      <td>0.001091</td>\n",
              "      <td>0.000891</td>\n",
              "    </tr>\n",
              "  </tbody>\n",
              "</table>\n",
              "<p>5 rows × 99 columns</p>\n",
              "</div>\n",
              "      <button class=\"colab-df-convert\" onclick=\"convertToInteractive('df-b2591cbb-df49-4dfb-8b9a-f15a426b5d28')\"\n",
              "              title=\"Convert this dataframe to an interactive table.\"\n",
              "              style=\"display:none;\">\n",
              "        \n",
              "  <svg xmlns=\"http://www.w3.org/2000/svg\" height=\"24px\"viewBox=\"0 0 24 24\"\n",
              "       width=\"24px\">\n",
              "    <path d=\"M0 0h24v24H0V0z\" fill=\"none\"/>\n",
              "    <path d=\"M18.56 5.44l.94 2.06.94-2.06 2.06-.94-2.06-.94-.94-2.06-.94 2.06-2.06.94zm-11 1L8.5 8.5l.94-2.06 2.06-.94-2.06-.94L8.5 2.5l-.94 2.06-2.06.94zm10 10l.94 2.06.94-2.06 2.06-.94-2.06-.94-.94-2.06-.94 2.06-2.06.94z\"/><path d=\"M17.41 7.96l-1.37-1.37c-.4-.4-.92-.59-1.43-.59-.52 0-1.04.2-1.43.59L10.3 9.45l-7.72 7.72c-.78.78-.78 2.05 0 2.83L4 21.41c.39.39.9.59 1.41.59.51 0 1.02-.2 1.41-.59l7.78-7.78 2.81-2.81c.8-.78.8-2.07 0-2.86zM5.41 20L4 18.59l7.72-7.72 1.47 1.35L5.41 20z\"/>\n",
              "  </svg>\n",
              "      </button>\n",
              "      \n",
              "  <style>\n",
              "    .colab-df-container {\n",
              "      display:flex;\n",
              "      flex-wrap:wrap;\n",
              "      gap: 12px;\n",
              "    }\n",
              "\n",
              "    .colab-df-convert {\n",
              "      background-color: #E8F0FE;\n",
              "      border: none;\n",
              "      border-radius: 50%;\n",
              "      cursor: pointer;\n",
              "      display: none;\n",
              "      fill: #1967D2;\n",
              "      height: 32px;\n",
              "      padding: 0 0 0 0;\n",
              "      width: 32px;\n",
              "    }\n",
              "\n",
              "    .colab-df-convert:hover {\n",
              "      background-color: #E2EBFA;\n",
              "      box-shadow: 0px 1px 2px rgba(60, 64, 67, 0.3), 0px 1px 3px 1px rgba(60, 64, 67, 0.15);\n",
              "      fill: #174EA6;\n",
              "    }\n",
              "\n",
              "    [theme=dark] .colab-df-convert {\n",
              "      background-color: #3B4455;\n",
              "      fill: #D2E3FC;\n",
              "    }\n",
              "\n",
              "    [theme=dark] .colab-df-convert:hover {\n",
              "      background-color: #434B5C;\n",
              "      box-shadow: 0px 1px 3px 1px rgba(0, 0, 0, 0.15);\n",
              "      filter: drop-shadow(0px 1px 2px rgba(0, 0, 0, 0.3));\n",
              "      fill: #FFFFFF;\n",
              "    }\n",
              "  </style>\n",
              "\n",
              "      <script>\n",
              "        const buttonEl =\n",
              "          document.querySelector('#df-b2591cbb-df49-4dfb-8b9a-f15a426b5d28 button.colab-df-convert');\n",
              "        buttonEl.style.display =\n",
              "          google.colab.kernel.accessAllowed ? 'block' : 'none';\n",
              "\n",
              "        async function convertToInteractive(key) {\n",
              "          const element = document.querySelector('#df-b2591cbb-df49-4dfb-8b9a-f15a426b5d28');\n",
              "          const dataTable =\n",
              "            await google.colab.kernel.invokeFunction('convertToInteractive',\n",
              "                                                     [key], {});\n",
              "          if (!dataTable) return;\n",
              "\n",
              "          const docLinkHtml = 'Like what you see? Visit the ' +\n",
              "            '<a target=\"_blank\" href=https://colab.research.google.com/notebooks/data_table.ipynb>data table notebook</a>'\n",
              "            + ' to learn more about interactive tables.';\n",
              "          element.innerHTML = '';\n",
              "          dataTable['output_type'] = 'display_data';\n",
              "          await google.colab.output.renderOutput(dataTable, element);\n",
              "          const docLink = document.createElement('div');\n",
              "          docLink.innerHTML = docLinkHtml;\n",
              "          element.appendChild(docLink);\n",
              "        }\n",
              "      </script>\n",
              "    </div>\n",
              "  </div>\n",
              "  "
            ]
          },
          "metadata": {},
          "execution_count": 107
        }
      ]
    },
    {
      "cell_type": "markdown",
      "metadata": {
        "id": "de761526-7be2-4f21-b92d-1df55ec1e59e"
      },
      "source": [
        "**Разбейте X и y на тренировочную и тестовую выборки**, как в лекции. Соотношение train/test поставьте равным 4:1.\\\n",
        "*Подсказка*: воспользуйтесь функцией `train_test_split`."
      ],
      "id": "de761526-7be2-4f21-b92d-1df55ec1e59e"
    },
    {
      "cell_type": "code",
      "metadata": {
        "id": "2685d7e6-1f7a-4c22-9e7d-c4312c39bb53"
      },
      "source": [
        "X_train, X_test, y_train, y_test = train_test_split(X, y, test_size=0.2, random_state=777)"
      ],
      "id": "2685d7e6-1f7a-4c22-9e7d-c4312c39bb53",
      "execution_count": 108,
      "outputs": []
    },
    {
      "cell_type": "markdown",
      "metadata": {
        "id": "ec0a711a-5755-4bba-9bed-0a4718d1248d"
      },
      "source": [
        "**Осуществите стандартизацию признаков в выборке**."
      ],
      "id": "ec0a711a-5755-4bba-9bed-0a4718d1248d"
    },
    {
      "cell_type": "code",
      "metadata": {
        "id": "4ebe265e-aa17-47a7-9faa-727eb06ec19a"
      },
      "source": [
        "scaler = StandardScaler()\n",
        "scaler.fit(X_train)\n",
        "X_train = scaler.transform(X_train)\n",
        "X_test = scaler.transform(X_test)"
      ],
      "id": "4ebe265e-aa17-47a7-9faa-727eb06ec19a",
      "execution_count": 109,
      "outputs": []
    },
    {
      "cell_type": "markdown",
      "metadata": {
        "id": "74eb7e2b-4dc8-4d36-83ab-9ef5cf252886"
      },
      "source": [
        "**Импортируйте модель логистической регрессии и обучите ее на соответствующей части выборки (`model.fit`)**."
      ],
      "id": "74eb7e2b-4dc8-4d36-83ab-9ef5cf252886"
    },
    {
      "cell_type": "code",
      "metadata": {
        "id": "4a24c5cf-6993-4c8a-8f87-6c061a9bfafa",
        "colab": {
          "base_uri": "https://localhost:8080/"
        },
        "outputId": "0bc5ab04-abc0-4c2b-a7dd-cf144171a3da"
      },
      "source": [
        "model = LogisticRegression(max_iter=100)\n",
        "model.fit(X_train, y_train)"
      ],
      "id": "4a24c5cf-6993-4c8a-8f87-6c061a9bfafa",
      "execution_count": 110,
      "outputs": [
        {
          "output_type": "stream",
          "name": "stderr",
          "text": [
            "/usr/local/lib/python3.7/dist-packages/sklearn/linear_model/_logistic.py:818: ConvergenceWarning: lbfgs failed to converge (status=1):\n",
            "STOP: TOTAL NO. of ITERATIONS REACHED LIMIT.\n",
            "\n",
            "Increase the number of iterations (max_iter) or scale the data as shown in:\n",
            "    https://scikit-learn.org/stable/modules/preprocessing.html\n",
            "Please also refer to the documentation for alternative solver options:\n",
            "    https://scikit-learn.org/stable/modules/linear_model.html#logistic-regression\n",
            "  extra_warning_msg=_LOGISTIC_SOLVER_CONVERGENCE_MSG,\n"
          ]
        },
        {
          "output_type": "execute_result",
          "data": {
            "text/plain": [
              "LogisticRegression()"
            ]
          },
          "metadata": {},
          "execution_count": 110
        }
      ]
    },
    {
      "cell_type": "markdown",
      "metadata": {
        "id": "04d4e9d0-8122-46e1-9341-e5000f3ee715"
      },
      "source": [
        "**Получите предсказание на оставшейся выборке**. Оцените его качество метриками из отчета о классификации (`classification_report`)."
      ],
      "id": "04d4e9d0-8122-46e1-9341-e5000f3ee715"
    },
    {
      "cell_type": "code",
      "metadata": {
        "id": "c7062e89-3cff-4167-96ee-7b1b3df74f8e",
        "colab": {
          "base_uri": "https://localhost:8080/"
        },
        "outputId": "549cf9f3-4cf1-4ed8-ff36-0cb7eaa98da8"
      },
      "source": [
        "y_pred = model.predict(X_test)\n",
        "print(classification_report(y_true=y_test, y_pred=y_pred, zero_division=1))"
      ],
      "id": "c7062e89-3cff-4167-96ee-7b1b3df74f8e",
      "execution_count": 112,
      "outputs": [
        {
          "output_type": "stream",
          "name": "stdout",
          "text": [
            "              precision    recall  f1-score   support\n",
            "\n",
            "          -1       0.71      0.53      0.61        32\n",
            "           0       0.88      0.95      0.91       161\n",
            "           1       0.00      0.00      0.00         7\n",
            "\n",
            "    accuracy                           0.85       200\n",
            "   macro avg       0.53      0.49      0.51       200\n",
            "weighted avg       0.82      0.85      0.83       200\n",
            "\n"
          ]
        }
      ]
    },
    {
      "cell_type": "markdown",
      "metadata": {
        "id": "cd886df0-66f0-4e46-8754-ba221400048e"
      },
      "source": [
        "Разбейте X и y на тренировочную и тестовую выборки, **так, как указано в ячейке ниже**. Повторите все шаги, чтобы определить качество классификации."
      ],
      "id": "cd886df0-66f0-4e46-8754-ba221400048e"
    },
    {
      "cell_type": "code",
      "metadata": {
        "id": "64ed362f-42ad-4fa8-b833-80745c8c962e"
      },
      "source": [
        "X_train = X[tfs[\"construction\"] == \"ECR11\"].values\n",
        "X_test = X[tfs[\"construction\"] == \"ALDOB\"].values\n",
        "y_train = y[tfs[\"construction\"] == \"ECR11\"].values\n",
        "y_test = y[tfs[\"construction\"] == \"ALDOB\"].values"
      ],
      "id": "64ed362f-42ad-4fa8-b833-80745c8c962e",
      "execution_count": 113,
      "outputs": []
    },
    {
      "cell_type": "code",
      "metadata": {
        "id": "e42a113c-3483-4887-b526-cdde56fba6f9"
      },
      "source": [
        "scaler = StandardScaler()\n",
        "scaler.fit(X_train)\n",
        "X_train = scaler.transform(X_train)\n",
        "X_test = scaler.transform(X_test)"
      ],
      "id": "e42a113c-3483-4887-b526-cdde56fba6f9",
      "execution_count": 114,
      "outputs": []
    },
    {
      "cell_type": "code",
      "source": [
        "model = LogisticRegression(max_iter=100)\n",
        "model.fit(X_train, y_train)"
      ],
      "metadata": {
        "colab": {
          "base_uri": "https://localhost:8080/"
        },
        "id": "6SvykZHvwuTH",
        "outputId": "5eb14318-b661-435b-bd58-bcfe28fd7327"
      },
      "id": "6SvykZHvwuTH",
      "execution_count": 115,
      "outputs": [
        {
          "output_type": "stream",
          "name": "stderr",
          "text": [
            "/usr/local/lib/python3.7/dist-packages/sklearn/linear_model/_logistic.py:818: ConvergenceWarning: lbfgs failed to converge (status=1):\n",
            "STOP: TOTAL NO. of ITERATIONS REACHED LIMIT.\n",
            "\n",
            "Increase the number of iterations (max_iter) or scale the data as shown in:\n",
            "    https://scikit-learn.org/stable/modules/preprocessing.html\n",
            "Please also refer to the documentation for alternative solver options:\n",
            "    https://scikit-learn.org/stable/modules/linear_model.html#logistic-regression\n",
            "  extra_warning_msg=_LOGISTIC_SOLVER_CONVERGENCE_MSG,\n"
          ]
        },
        {
          "output_type": "execute_result",
          "data": {
            "text/plain": [
              "LogisticRegression()"
            ]
          },
          "metadata": {},
          "execution_count": 115
        }
      ]
    },
    {
      "cell_type": "code",
      "source": [
        "y_pred = model.predict(X_test)\n",
        "print(classification_report(y_true=y_test, y_pred=y_pred, zero_division=1))"
      ],
      "metadata": {
        "colab": {
          "base_uri": "https://localhost:8080/"
        },
        "id": "q7Vlb81nwuWL",
        "outputId": "2fc02095-2fa5-4b57-dca3-140846993ae5"
      },
      "id": "q7Vlb81nwuWL",
      "execution_count": 116,
      "outputs": [
        {
          "output_type": "stream",
          "name": "stdout",
          "text": [
            "              precision    recall  f1-score   support\n",
            "\n",
            "          -1       0.20      0.87      0.33        94\n",
            "           0       1.00      0.00      0.00       382\n",
            "           1       0.06      0.21      0.09        24\n",
            "\n",
            "    accuracy                           0.17       500\n",
            "   macro avg       0.42      0.36      0.14       500\n",
            "weighted avg       0.80      0.17      0.07       500\n",
            "\n"
          ]
        }
      ]
    },
    {
      "cell_type": "markdown",
      "metadata": {
        "id": "16bcf556-47ef-460c-aaaf-97442ca77692"
      },
      "source": [
        "**Сделайте выводы об изменении качества**."
      ],
      "id": "16bcf556-47ef-460c-aaaf-97442ca77692"
    },
    {
      "cell_type": "markdown",
      "source": [
        "_После изменения выборки качество сильно упало (а в одном из классов recall вообще стал нулевым, а precision 1, что тем более нехорошо), можно сделать вывод о неудачном работе модели на предложенных выше данных._"
      ],
      "metadata": {
        "id": "bh7hYTH4yk50"
      },
      "id": "bh7hYTH4yk50"
    },
    {
      "cell_type": "markdown",
      "metadata": {
        "id": "e8482c12-6d88-4916-a847-6b5353fe55c1"
      },
      "source": [
        "### Задача 3: Классификация химических веществ"
      ],
      "id": "e8482c12-6d88-4916-a847-6b5353fe55c1"
    },
    {
      "cell_type": "code",
      "metadata": {
        "id": "-r3XZfzYPOBO",
        "outputId": "d9fa1756-de3c-40fa-b4a6-28d57666dcce",
        "colab": {
          "base_uri": "https://localhost:8080/"
        }
      },
      "source": [
        "!wget --no-check-certificate 'https://docs.google.com/uc?export=download&id=1SYdyTbPD01GYcdz7hkyWZGoA5RV44fg7' -O bace.csv"
      ],
      "id": "-r3XZfzYPOBO",
      "execution_count": 119,
      "outputs": [
        {
          "output_type": "stream",
          "name": "stdout",
          "text": [
            "--2022-09-26 22:09:16--  https://docs.google.com/uc?export=download&id=1SYdyTbPD01GYcdz7hkyWZGoA5RV44fg7\n",
            "Resolving docs.google.com (docs.google.com)... 74.125.203.101, 74.125.203.138, 74.125.203.100, ...\n",
            "Connecting to docs.google.com (docs.google.com)|74.125.203.101|:443... connected.\n",
            "HTTP request sent, awaiting response... 303 See Other\n",
            "Location: https://doc-0c-50-docs.googleusercontent.com/docs/securesc/ha0ro937gcuc7l7deffksulhg5h7mbp1/9886t71m8262rine8sj7fk0k5jifllpt/1664230125000/10688067377005935076/*/1SYdyTbPD01GYcdz7hkyWZGoA5RV44fg7?e=download&uuid=438c6dc9-c002-4131-8fec-f424cad7f9d0 [following]\n",
            "Warning: wildcards not supported in HTTP.\n",
            "--2022-09-26 22:09:18--  https://doc-0c-50-docs.googleusercontent.com/docs/securesc/ha0ro937gcuc7l7deffksulhg5h7mbp1/9886t71m8262rine8sj7fk0k5jifllpt/1664230125000/10688067377005935076/*/1SYdyTbPD01GYcdz7hkyWZGoA5RV44fg7?e=download&uuid=438c6dc9-c002-4131-8fec-f424cad7f9d0\n",
            "Resolving doc-0c-50-docs.googleusercontent.com (doc-0c-50-docs.googleusercontent.com)... 142.250.157.132, 2404:6800:4008:c13::84\n",
            "Connecting to doc-0c-50-docs.googleusercontent.com (doc-0c-50-docs.googleusercontent.com)|142.250.157.132|:443... connected.\n",
            "HTTP request sent, awaiting response... 200 OK\n",
            "Length: 3897767 (3.7M) [text/csv]\n",
            "Saving to: ‘bace.csv’\n",
            "\n",
            "bace.csv            100%[===================>]   3.72M  --.-KB/s    in 0.02s   \n",
            "\n",
            "2022-09-26 22:09:18 (203 MB/s) - ‘bace.csv’ saved [3897767/3897767]\n",
            "\n"
          ]
        }
      ]
    },
    {
      "cell_type": "markdown",
      "metadata": {
        "id": "c6e33fae-8f5c-4207-abe5-b27cf4d47436"
      },
      "source": [
        "Датасет [BACE](http://moleculenet.ai/datasets-1) загружен за вас, определены `X`, `y` и `smiles`."
      ],
      "id": "c6e33fae-8f5c-4207-abe5-b27cf4d47436"
    },
    {
      "cell_type": "code",
      "metadata": {
        "id": "26b131ae-2a07-48f3-a24f-d406471a99b1",
        "colab": {
          "base_uri": "https://localhost:8080/",
          "height": 324
        },
        "outputId": "c6dd3457-9839-41a1-df06-8d52afa29f2a"
      },
      "source": [
        "bace = pd.read_csv(\"./bace.csv\", header=0)\n",
        "bace.head(3)"
      ],
      "id": "26b131ae-2a07-48f3-a24f-d406471a99b1",
      "execution_count": 120,
      "outputs": [
        {
          "output_type": "execute_result",
          "data": {
            "text/plain": [
              "                                                 mol     CID  Class  Model  \\\n",
              "0  O1CC[C@@H](NC(=O)[C@@H](Cc2cc3cc(ccc3nc2N)-c2c...  BACE_1      1  Train   \n",
              "1  Fc1cc(cc(F)c1)C[C@H](NC(=O)[C@@H](N1CC[C@](NC(...  BACE_2      1  Train   \n",
              "2  S1(=O)(=O)N(c2cc(cc3c2n(cc3CC)CC1)C(=O)N[C@H](...  BACE_3      1  Train   \n",
              "\n",
              "      pIC50         MW   AlogP  HBA  HBD  RB  ...  PEOE6 (PEOE6)  \\\n",
              "0  9.154901  431.56979  4.4014    3    2   5  ...      53.205711   \n",
              "1  8.853872  657.81073  2.6412    5    4  16  ...      73.817162   \n",
              "2  8.698970  591.74091  2.5499    4    3  11  ...      70.365707   \n",
              "\n",
              "   PEOE7 (PEOE7)  PEOE8 (PEOE8)  PEOE9 (PEOE9)  PEOE10 (PEOE10)  \\\n",
              "0      78.640335      226.85541      107.43491        37.133846   \n",
              "1      47.171600      365.67694      174.07675        34.923889   \n",
              "2      47.941147      192.40652      255.75255        23.654478   \n",
              "\n",
              "   PEOE11 (PEOE11)  PEOE12 (PEOE12)  PEOE13 (PEOE13)  PEOE14 (PEOE14)  \\\n",
              "0         0.000000         7.980170              0.0         0.000000   \n",
              "1         7.980170        24.148668              0.0        24.663788   \n",
              "2         0.230159        15.879790              0.0        24.663788   \n",
              "\n",
              "   canvasUID  \n",
              "0          1  \n",
              "1          2  \n",
              "2          3  \n",
              "\n",
              "[3 rows x 595 columns]"
            ],
            "text/html": [
              "\n",
              "  <div id=\"df-2c8a2a52-906d-42fd-8db1-feead0fcf11d\">\n",
              "    <div class=\"colab-df-container\">\n",
              "      <div>\n",
              "<style scoped>\n",
              "    .dataframe tbody tr th:only-of-type {\n",
              "        vertical-align: middle;\n",
              "    }\n",
              "\n",
              "    .dataframe tbody tr th {\n",
              "        vertical-align: top;\n",
              "    }\n",
              "\n",
              "    .dataframe thead th {\n",
              "        text-align: right;\n",
              "    }\n",
              "</style>\n",
              "<table border=\"1\" class=\"dataframe\">\n",
              "  <thead>\n",
              "    <tr style=\"text-align: right;\">\n",
              "      <th></th>\n",
              "      <th>mol</th>\n",
              "      <th>CID</th>\n",
              "      <th>Class</th>\n",
              "      <th>Model</th>\n",
              "      <th>pIC50</th>\n",
              "      <th>MW</th>\n",
              "      <th>AlogP</th>\n",
              "      <th>HBA</th>\n",
              "      <th>HBD</th>\n",
              "      <th>RB</th>\n",
              "      <th>...</th>\n",
              "      <th>PEOE6 (PEOE6)</th>\n",
              "      <th>PEOE7 (PEOE7)</th>\n",
              "      <th>PEOE8 (PEOE8)</th>\n",
              "      <th>PEOE9 (PEOE9)</th>\n",
              "      <th>PEOE10 (PEOE10)</th>\n",
              "      <th>PEOE11 (PEOE11)</th>\n",
              "      <th>PEOE12 (PEOE12)</th>\n",
              "      <th>PEOE13 (PEOE13)</th>\n",
              "      <th>PEOE14 (PEOE14)</th>\n",
              "      <th>canvasUID</th>\n",
              "    </tr>\n",
              "  </thead>\n",
              "  <tbody>\n",
              "    <tr>\n",
              "      <th>0</th>\n",
              "      <td>O1CC[C@@H](NC(=O)[C@@H](Cc2cc3cc(ccc3nc2N)-c2c...</td>\n",
              "      <td>BACE_1</td>\n",
              "      <td>1</td>\n",
              "      <td>Train</td>\n",
              "      <td>9.154901</td>\n",
              "      <td>431.56979</td>\n",
              "      <td>4.4014</td>\n",
              "      <td>3</td>\n",
              "      <td>2</td>\n",
              "      <td>5</td>\n",
              "      <td>...</td>\n",
              "      <td>53.205711</td>\n",
              "      <td>78.640335</td>\n",
              "      <td>226.85541</td>\n",
              "      <td>107.43491</td>\n",
              "      <td>37.133846</td>\n",
              "      <td>0.000000</td>\n",
              "      <td>7.980170</td>\n",
              "      <td>0.0</td>\n",
              "      <td>0.000000</td>\n",
              "      <td>1</td>\n",
              "    </tr>\n",
              "    <tr>\n",
              "      <th>1</th>\n",
              "      <td>Fc1cc(cc(F)c1)C[C@H](NC(=O)[C@@H](N1CC[C@](NC(...</td>\n",
              "      <td>BACE_2</td>\n",
              "      <td>1</td>\n",
              "      <td>Train</td>\n",
              "      <td>8.853872</td>\n",
              "      <td>657.81073</td>\n",
              "      <td>2.6412</td>\n",
              "      <td>5</td>\n",
              "      <td>4</td>\n",
              "      <td>16</td>\n",
              "      <td>...</td>\n",
              "      <td>73.817162</td>\n",
              "      <td>47.171600</td>\n",
              "      <td>365.67694</td>\n",
              "      <td>174.07675</td>\n",
              "      <td>34.923889</td>\n",
              "      <td>7.980170</td>\n",
              "      <td>24.148668</td>\n",
              "      <td>0.0</td>\n",
              "      <td>24.663788</td>\n",
              "      <td>2</td>\n",
              "    </tr>\n",
              "    <tr>\n",
              "      <th>2</th>\n",
              "      <td>S1(=O)(=O)N(c2cc(cc3c2n(cc3CC)CC1)C(=O)N[C@H](...</td>\n",
              "      <td>BACE_3</td>\n",
              "      <td>1</td>\n",
              "      <td>Train</td>\n",
              "      <td>8.698970</td>\n",
              "      <td>591.74091</td>\n",
              "      <td>2.5499</td>\n",
              "      <td>4</td>\n",
              "      <td>3</td>\n",
              "      <td>11</td>\n",
              "      <td>...</td>\n",
              "      <td>70.365707</td>\n",
              "      <td>47.941147</td>\n",
              "      <td>192.40652</td>\n",
              "      <td>255.75255</td>\n",
              "      <td>23.654478</td>\n",
              "      <td>0.230159</td>\n",
              "      <td>15.879790</td>\n",
              "      <td>0.0</td>\n",
              "      <td>24.663788</td>\n",
              "      <td>3</td>\n",
              "    </tr>\n",
              "  </tbody>\n",
              "</table>\n",
              "<p>3 rows × 595 columns</p>\n",
              "</div>\n",
              "      <button class=\"colab-df-convert\" onclick=\"convertToInteractive('df-2c8a2a52-906d-42fd-8db1-feead0fcf11d')\"\n",
              "              title=\"Convert this dataframe to an interactive table.\"\n",
              "              style=\"display:none;\">\n",
              "        \n",
              "  <svg xmlns=\"http://www.w3.org/2000/svg\" height=\"24px\"viewBox=\"0 0 24 24\"\n",
              "       width=\"24px\">\n",
              "    <path d=\"M0 0h24v24H0V0z\" fill=\"none\"/>\n",
              "    <path d=\"M18.56 5.44l.94 2.06.94-2.06 2.06-.94-2.06-.94-.94-2.06-.94 2.06-2.06.94zm-11 1L8.5 8.5l.94-2.06 2.06-.94-2.06-.94L8.5 2.5l-.94 2.06-2.06.94zm10 10l.94 2.06.94-2.06 2.06-.94-2.06-.94-.94-2.06-.94 2.06-2.06.94z\"/><path d=\"M17.41 7.96l-1.37-1.37c-.4-.4-.92-.59-1.43-.59-.52 0-1.04.2-1.43.59L10.3 9.45l-7.72 7.72c-.78.78-.78 2.05 0 2.83L4 21.41c.39.39.9.59 1.41.59.51 0 1.02-.2 1.41-.59l7.78-7.78 2.81-2.81c.8-.78.8-2.07 0-2.86zM5.41 20L4 18.59l7.72-7.72 1.47 1.35L5.41 20z\"/>\n",
              "  </svg>\n",
              "      </button>\n",
              "      \n",
              "  <style>\n",
              "    .colab-df-container {\n",
              "      display:flex;\n",
              "      flex-wrap:wrap;\n",
              "      gap: 12px;\n",
              "    }\n",
              "\n",
              "    .colab-df-convert {\n",
              "      background-color: #E8F0FE;\n",
              "      border: none;\n",
              "      border-radius: 50%;\n",
              "      cursor: pointer;\n",
              "      display: none;\n",
              "      fill: #1967D2;\n",
              "      height: 32px;\n",
              "      padding: 0 0 0 0;\n",
              "      width: 32px;\n",
              "    }\n",
              "\n",
              "    .colab-df-convert:hover {\n",
              "      background-color: #E2EBFA;\n",
              "      box-shadow: 0px 1px 2px rgba(60, 64, 67, 0.3), 0px 1px 3px 1px rgba(60, 64, 67, 0.15);\n",
              "      fill: #174EA6;\n",
              "    }\n",
              "\n",
              "    [theme=dark] .colab-df-convert {\n",
              "      background-color: #3B4455;\n",
              "      fill: #D2E3FC;\n",
              "    }\n",
              "\n",
              "    [theme=dark] .colab-df-convert:hover {\n",
              "      background-color: #434B5C;\n",
              "      box-shadow: 0px 1px 3px 1px rgba(0, 0, 0, 0.15);\n",
              "      filter: drop-shadow(0px 1px 2px rgba(0, 0, 0, 0.3));\n",
              "      fill: #FFFFFF;\n",
              "    }\n",
              "  </style>\n",
              "\n",
              "      <script>\n",
              "        const buttonEl =\n",
              "          document.querySelector('#df-2c8a2a52-906d-42fd-8db1-feead0fcf11d button.colab-df-convert');\n",
              "        buttonEl.style.display =\n",
              "          google.colab.kernel.accessAllowed ? 'block' : 'none';\n",
              "\n",
              "        async function convertToInteractive(key) {\n",
              "          const element = document.querySelector('#df-2c8a2a52-906d-42fd-8db1-feead0fcf11d');\n",
              "          const dataTable =\n",
              "            await google.colab.kernel.invokeFunction('convertToInteractive',\n",
              "                                                     [key], {});\n",
              "          if (!dataTable) return;\n",
              "\n",
              "          const docLinkHtml = 'Like what you see? Visit the ' +\n",
              "            '<a target=\"_blank\" href=https://colab.research.google.com/notebooks/data_table.ipynb>data table notebook</a>'\n",
              "            + ' to learn more about interactive tables.';\n",
              "          element.innerHTML = '';\n",
              "          dataTable['output_type'] = 'display_data';\n",
              "          await google.colab.output.renderOutput(dataTable, element);\n",
              "          const docLink = document.createElement('div');\n",
              "          docLink.innerHTML = docLinkHtml;\n",
              "          element.appendChild(docLink);\n",
              "        }\n",
              "      </script>\n",
              "    </div>\n",
              "  </div>\n",
              "  "
            ]
          },
          "metadata": {},
          "execution_count": 120
        }
      ]
    },
    {
      "cell_type": "code",
      "metadata": {
        "id": "4d7630b3-92e2-4d1f-b305-30e211de181e"
      },
      "source": [
        "X = bace.iloc[:,4:].values\n",
        "y = bace[\"Class\"].values\n",
        "smiles = bace[\"mol\"].values"
      ],
      "id": "4d7630b3-92e2-4d1f-b305-30e211de181e",
      "execution_count": 121,
      "outputs": []
    },
    {
      "cell_type": "markdown",
      "metadata": {
        "id": "b82862fa-1ac5-4418-ba1f-8db8173ebd8b"
      },
      "source": [
        "**Разбейте X и y на тренировочную и тестовую выборки**, как в лекции. Соотношение train/test поставьте равным 3:1.\\\n",
        "*Подсказка*: воспользуйтесь функцией `train_test_split`."
      ],
      "id": "b82862fa-1ac5-4418-ba1f-8db8173ebd8b"
    },
    {
      "cell_type": "code",
      "metadata": {
        "id": "3be4f823-3b68-4988-a597-bae25c8ddd73"
      },
      "source": [
        "X_train, X_test, y_train, y_test = train_test_split(X, y, test_size=0.25, random_state=777)"
      ],
      "id": "3be4f823-3b68-4988-a597-bae25c8ddd73",
      "execution_count": 122,
      "outputs": []
    },
    {
      "cell_type": "markdown",
      "metadata": {
        "id": "e8413973-d3b5-49f4-8234-c115fd15ad23"
      },
      "source": [
        "**Осуществите стандартизацию признаков в выборке**."
      ],
      "id": "e8413973-d3b5-49f4-8234-c115fd15ad23"
    },
    {
      "cell_type": "code",
      "metadata": {
        "id": "7d2574c1-bc21-4dc6-b983-1303269b3bed"
      },
      "source": [
        "scaler = StandardScaler()\n",
        "scaler.fit(X_train)\n",
        "X_train = scaler.transform(X_train)\n",
        "X_test = scaler.transform(X_test)"
      ],
      "id": "7d2574c1-bc21-4dc6-b983-1303269b3bed",
      "execution_count": 123,
      "outputs": []
    },
    {
      "cell_type": "markdown",
      "metadata": {
        "id": "6c71dc81-9935-4493-b1a2-56fb5be672d0"
      },
      "source": [
        "**Импортируйте модель логистической регрессии и обучите ее на соответствующей части выборки (`model.fit`)**."
      ],
      "id": "6c71dc81-9935-4493-b1a2-56fb5be672d0"
    },
    {
      "cell_type": "code",
      "metadata": {
        "id": "f674454a-45e0-4427-960a-94c82e78d7d1",
        "colab": {
          "base_uri": "https://localhost:8080/"
        },
        "outputId": "baf2a615-1030-4306-baa7-f27e126387a5"
      },
      "source": [
        "model = LogisticRegression(max_iter=100)\n",
        "model.fit(X_train, y_train)"
      ],
      "id": "f674454a-45e0-4427-960a-94c82e78d7d1",
      "execution_count": 124,
      "outputs": [
        {
          "output_type": "stream",
          "name": "stderr",
          "text": [
            "/usr/local/lib/python3.7/dist-packages/sklearn/linear_model/_logistic.py:818: ConvergenceWarning: lbfgs failed to converge (status=1):\n",
            "STOP: TOTAL NO. of ITERATIONS REACHED LIMIT.\n",
            "\n",
            "Increase the number of iterations (max_iter) or scale the data as shown in:\n",
            "    https://scikit-learn.org/stable/modules/preprocessing.html\n",
            "Please also refer to the documentation for alternative solver options:\n",
            "    https://scikit-learn.org/stable/modules/linear_model.html#logistic-regression\n",
            "  extra_warning_msg=_LOGISTIC_SOLVER_CONVERGENCE_MSG,\n"
          ]
        },
        {
          "output_type": "execute_result",
          "data": {
            "text/plain": [
              "LogisticRegression()"
            ]
          },
          "metadata": {},
          "execution_count": 124
        }
      ]
    },
    {
      "cell_type": "markdown",
      "metadata": {
        "id": "b12d7f89-ee99-47aa-b0ff-52e312a0938f"
      },
      "source": [
        "**Получите предсказание на оставшейся выборке**. Оцените его качество метриками из отчета о классификации (`classification_report`)."
      ],
      "id": "b12d7f89-ee99-47aa-b0ff-52e312a0938f"
    },
    {
      "cell_type": "code",
      "metadata": {
        "id": "a4561cf9-15ca-4d45-903f-14b478ac8448",
        "colab": {
          "base_uri": "https://localhost:8080/"
        },
        "outputId": "d44d1911-c732-4a65-d86b-6f006713a1b5"
      },
      "source": [
        "y_pred = model.predict(X_test)\n",
        "print(classification_report(y_true=y_test, y_pred=y_pred))"
      ],
      "id": "a4561cf9-15ca-4d45-903f-14b478ac8448",
      "execution_count": 126,
      "outputs": [
        {
          "output_type": "stream",
          "name": "stdout",
          "text": [
            "              precision    recall  f1-score   support\n",
            "\n",
            "           0       0.95      0.94      0.94       212\n",
            "           1       0.92      0.93      0.93       167\n",
            "\n",
            "    accuracy                           0.94       379\n",
            "   macro avg       0.94      0.94      0.94       379\n",
            "weighted avg       0.94      0.94      0.94       379\n",
            "\n"
          ]
        }
      ]
    },
    {
      "cell_type": "markdown",
      "metadata": {
        "id": "258f3c59-f419-4394-aa87-fa5c58a8c2d1"
      },
      "source": [
        "Функция `fingerprint_train_test_split`, приведенная ниже, осуществляет **разбиение train/test на основании молекулярных \"отпечатков\" (molecular fingerprints)**. Воспользуйтесь ей, чтобы получить **неслучайное разбиение на train/test** и повторите предыдущие шаги, чтобы оценить качество модели на таком случае."
      ],
      "id": "258f3c59-f419-4394-aa87-fa5c58a8c2d1"
    },
    {
      "cell_type": "code",
      "metadata": {
        "colab": {
          "base_uri": "https://localhost:8080/"
        },
        "id": "w03_Vi4MQLX_",
        "outputId": "d8e1688c-da6d-4b47-bb73-50e79c67aaf1"
      },
      "source": [
        "!pip install rdkit-pypi"
      ],
      "id": "w03_Vi4MQLX_",
      "execution_count": 127,
      "outputs": [
        {
          "output_type": "stream",
          "name": "stdout",
          "text": [
            "Looking in indexes: https://pypi.org/simple, https://us-python.pkg.dev/colab-wheels/public/simple/\n",
            "Collecting rdkit-pypi\n",
            "  Downloading rdkit_pypi-2022.3.5-cp37-cp37m-manylinux_2_17_x86_64.manylinux2014_x86_64.whl (36.8 MB)\n",
            "\u001b[K     |████████████████████████████████| 36.8 MB 26 kB/s \n",
            "\u001b[?25hRequirement already satisfied: Pillow in /usr/local/lib/python3.7/dist-packages (from rdkit-pypi) (7.1.2)\n",
            "Requirement already satisfied: numpy in /usr/local/lib/python3.7/dist-packages (from rdkit-pypi) (1.21.6)\n",
            "Installing collected packages: rdkit-pypi\n",
            "Successfully installed rdkit-pypi-2022.3.5\n"
          ]
        }
      ]
    },
    {
      "cell_type": "code",
      "metadata": {
        "id": "9a29ae65-3c94-4bf3-8a17-204607b8dc57"
      },
      "source": [
        "from rdkit import Chem\n",
        "from rdkit.Chem import AllChem\n",
        "from rdkit import DataStructs"
      ],
      "id": "9a29ae65-3c94-4bf3-8a17-204607b8dc57",
      "execution_count": 129,
      "outputs": []
    },
    {
      "cell_type": "code",
      "metadata": {
        "id": "7b6cb627-57fc-4bcb-971c-40a30e850f75"
      },
      "source": [
        "def _split_fingerprints(fps, size1, size2):\n",
        "    \"\"\"This is called by fingerprint_train_test_split to divide a list of fingerprints into\n",
        "    two groups.\n",
        "    \"\"\"\n",
        "    assert len(fps) == size1 + size2\n",
        "\n",
        "    # Begin by assigning the first molecule to the first group.\n",
        "\n",
        "    fp_in_group = [[fps[0]], []]\n",
        "    indices_in_group = ([0], [])\n",
        "    remaining_fp = fps[1:]\n",
        "    remaining_indices = list(range(1, len(fps)))\n",
        "    max_similarity_to_group = [\n",
        "        DataStructs.BulkTanimotoSimilarity(fps[0], remaining_fp),\n",
        "        [0] * len(remaining_fp)\n",
        "    ]\n",
        "    while len(remaining_fp) > 0:\n",
        "    # Decide which group to assign a molecule to.\n",
        "        group = 0 if len(fp_in_group[0]) / size1 <= len(\n",
        "            fp_in_group[1]) / size2 else 1\n",
        "\n",
        "        # Identify the unassigned molecule that is least similar to everything in\n",
        "        # the other group.\n",
        "\n",
        "        i = np.argmin(max_similarity_to_group[1 - group])\n",
        "\n",
        "        # Add it to the group.\n",
        "\n",
        "        fp = remaining_fp[i]\n",
        "        fp_in_group[group].append(fp)\n",
        "        indices_in_group[group].append(remaining_indices[i])\n",
        "\n",
        "        # Update the data on unassigned molecules.\n",
        "\n",
        "        similarity = DataStructs.BulkTanimotoSimilarity(fp, remaining_fp)\n",
        "        max_similarity_to_group[group] = np.delete(\n",
        "            np.maximum(similarity, max_similarity_to_group[group]), i)\n",
        "        max_similarity_to_group[1 - group] = np.delete(\n",
        "            max_similarity_to_group[1 - group], i)\n",
        "        del remaining_fp[i]\n",
        "        del remaining_indices[i]\n",
        "    return indices_in_group"
      ],
      "id": "7b6cb627-57fc-4bcb-971c-40a30e850f75",
      "execution_count": 130,
      "outputs": []
    },
    {
      "cell_type": "code",
      "metadata": {
        "id": "cfe6c073-0fc4-4f23-8fab-8744f725db28"
      },
      "source": [
        "def fingerprint_train_test_split(X, y, smiles, test_size=0.1):\n",
        "    assert X.shape[0] == y.shape[0] == smiles.shape[0]\n",
        "    mols = [Chem.MolFromSmiles(s) for s in smiles]\n",
        "    fps = [AllChem.GetMorganFingerprintAsBitVect(x, 2, 1024) for x in mols]\n",
        "\n",
        "    # Split into two groups: training set and everything else.\n",
        "\n",
        "    test_size = int(test_size * len(y))\n",
        "    train_size = len(y) - test_size\n",
        "    train_inds, test_inds = _split_fingerprints(fps, train_size, test_size)\n",
        "    \n",
        "    X_train = X[train_inds,:]\n",
        "    X_test = X[test_inds,:]\n",
        "    y_train = y[train_inds]\n",
        "    y_test = y[test_inds]\n",
        "    \n",
        "    return X_train, X_test, y_train, y_test"
      ],
      "id": "cfe6c073-0fc4-4f23-8fab-8744f725db28",
      "execution_count": 131,
      "outputs": []
    },
    {
      "cell_type": "code",
      "metadata": {
        "id": "bac99465-3e69-4eb6-a05e-2abfffe97fe1"
      },
      "source": [
        "X_train, X_test, y_train, y_test = fingerprint_train_test_split(X, y, smiles, test_size=0.25)"
      ],
      "id": "bac99465-3e69-4eb6-a05e-2abfffe97fe1",
      "execution_count": 132,
      "outputs": []
    },
    {
      "cell_type": "code",
      "source": [
        "scaler = StandardScaler()\n",
        "scaler.fit(X_train)\n",
        "X_train = scaler.transform(X_train)\n",
        "X_test = scaler.transform(X_test)"
      ],
      "metadata": {
        "id": "Ul1ttcPR4hEx"
      },
      "id": "Ul1ttcPR4hEx",
      "execution_count": 133,
      "outputs": []
    },
    {
      "cell_type": "code",
      "source": [
        "model = LogisticRegression(max_iter=100)\n",
        "model.fit(X_train, y_train)"
      ],
      "metadata": {
        "colab": {
          "base_uri": "https://localhost:8080/"
        },
        "id": "epUd96jz4hPy",
        "outputId": "a286f214-aee2-47d0-e62c-ffde598a702a"
      },
      "id": "epUd96jz4hPy",
      "execution_count": 134,
      "outputs": [
        {
          "output_type": "stream",
          "name": "stderr",
          "text": [
            "/usr/local/lib/python3.7/dist-packages/sklearn/linear_model/_logistic.py:818: ConvergenceWarning: lbfgs failed to converge (status=1):\n",
            "STOP: TOTAL NO. of ITERATIONS REACHED LIMIT.\n",
            "\n",
            "Increase the number of iterations (max_iter) or scale the data as shown in:\n",
            "    https://scikit-learn.org/stable/modules/preprocessing.html\n",
            "Please also refer to the documentation for alternative solver options:\n",
            "    https://scikit-learn.org/stable/modules/linear_model.html#logistic-regression\n",
            "  extra_warning_msg=_LOGISTIC_SOLVER_CONVERGENCE_MSG,\n"
          ]
        },
        {
          "output_type": "execute_result",
          "data": {
            "text/plain": [
              "LogisticRegression()"
            ]
          },
          "metadata": {},
          "execution_count": 134
        }
      ]
    },
    {
      "cell_type": "code",
      "source": [
        "y_pred = model.predict(X_test)\n",
        "print(classification_report(y_true=y_test, y_pred=y_pred))"
      ],
      "metadata": {
        "colab": {
          "base_uri": "https://localhost:8080/"
        },
        "id": "Q7xvc6b54hTD",
        "outputId": "82e70874-bd2a-4a24-931e-49cd8099af89"
      },
      "id": "Q7xvc6b54hTD",
      "execution_count": 135,
      "outputs": [
        {
          "output_type": "stream",
          "name": "stdout",
          "text": [
            "              precision    recall  f1-score   support\n",
            "\n",
            "           0       0.90      0.87      0.89       174\n",
            "           1       0.89      0.92      0.91       204\n",
            "\n",
            "    accuracy                           0.90       378\n",
            "   macro avg       0.90      0.89      0.90       378\n",
            "weighted avg       0.90      0.90      0.90       378\n",
            "\n"
          ]
        }
      ]
    },
    {
      "cell_type": "markdown",
      "metadata": {
        "id": "d1051f3a-d90a-4cfb-887c-97aad6b31158"
      },
      "source": [
        "**Сделайте выводы**."
      ],
      "id": "d1051f3a-d90a-4cfb-887c-97aad6b31158"
    },
    {
      "cell_type": "markdown",
      "metadata": {
        "id": "8e230a47-c382-40eb-8512-57353a4a8df0"
      },
      "source": [
        "---"
      ],
      "id": "8e230a47-c382-40eb-8512-57353a4a8df0"
    },
    {
      "cell_type": "markdown",
      "source": [
        "При сравнении отчётов можно проследить, что разбиение на случайные данные с помощью train_test_split лишь немного лучше, чем разбиение по молекулярным отпечаткам. Это может свидетельствовать о крайней вариативности этих отпечатков (поскольку если бы они повторялись или были бы одинаковыми целыми кластерами, то качество было бы намного хуже)\n",
        "Также это указывает на то, что можно получать хорошо работающие модели, которые не обучались на случайных данных, а с помощью другой (биологической в этом случае) информации об исследуемых объектах."
      ],
      "metadata": {
        "id": "0k9JHvRj75P4"
      },
      "id": "0k9JHvRj75P4"
    },
    {
      "cell_type": "code",
      "source": [],
      "metadata": {
        "id": "6BObEsEA8hXE"
      },
      "id": "6BObEsEA8hXE",
      "execution_count": null,
      "outputs": []
    }
  ]
}